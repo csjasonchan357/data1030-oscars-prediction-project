{
 "cells": [
  {
   "cell_type": "markdown",
   "metadata": {},
   "source": [
    "I WILL PERFORM ALL MY ONE HOT ENCODING OF CATEGORICAL FEATURES BEFORE CROSS VALIDATION PIPELINE, BUT ALL NUMERICAL PREPROCESSING WILL BE PERFORMED WITHIN."
   ]
  },
  {
   "cell_type": "code",
   "execution_count": 99,
   "metadata": {},
   "outputs": [],
   "source": [
    "import pandas as pd\n",
    "import numpy as np\n",
    "from sklearn.preprocessing import OrdinalEncoder, OneHotEncoder, LabelEncoder\n",
    "df = pd.read_csv('/home/jovyan/data1030/data1030-oscars-prediction-project/data/movies.csv')\n",
    "\n",
    "# parsing and one hot encoding of \"weird\" columns, unique due to it's structure\n",
    "bar_cats =['New_York_Film_Critics_Circle_won_categories','Hollywood_Film_won_categories','Hollywood_Film_nominated_categories','Austin_Film_Critics_Association_won_categories','Austin_Film_Critics_Association_nominated_categories','Denver_Film_Critics_Society_won_categories','Denver_Film_Critics_Society_nominated_categories','Boston_Society_of_Film_Critics_won_categories','Boston_Society_of_Film_Critics_nominated_categories','New_York_Film_Critics_Circle_nominated_categories','Los_Angeles_Film_Critics_Association_won_categories','Los_Angeles_Film_Critics_Association_nominated_categories','Online_Film_Critics_Society_won_categories','Online_Film_Critics_Society_nominated_categories','People_Choice_won_categories','People_Choice_nominated_categories','London_Critics_Circle_Film_won_categories','London_Critics_Circle_Film_nominated_categories','American_Cinema_Editors_won_categories','American_Cinema_Editors_nominated_categories','Costume_Designers_Guild_won_categories','Costume_Designers_Guild_nominated_categories','Online_Film_Television_Association_won_categories','Online_Film_Television_Association_nominated_categories','Producers_Guild_won_categories','Producers_Guild_nominated_categories','Art_Directors_Guild_won_categories','Art_Directors_Guild_nominated_categories','Writers_Guild_won_categories','Writers_Guild_nominated_categories','Critics_Choice_won_categories','Critics_Choice_nominated_categories','Directors_Guild_won_categories','Directors_Guild_nominated_categories','Screen_Actors_Guild_won_categories','Screen_Actors_Guild_nominated_categories','BAFTA_won_categories','BAFTA_nominated_categories','Golden_Globes_won_categories','Golden_Globes_nominated_categories','Oscar_nominated_categories','genre']\n",
    "bar_ohe = []\n",
    "for label in bar_cats:\n",
    "    df[label].fillna(\"nan\", inplace=True)\n",
    "    cat_series = df[label].apply(lambda x: (x.split('|')))\n",
    "    cats = [cat  for ele in list(cat_series) for cat in ele]\n",
    "    cat_set = set(cats)\n",
    "    if 'nan' in cat_set:\n",
    "        cat_set.remove('nan')\n",
    "    total_cats = list(cat_set)\n",
    "    cat_cols = [label + \": \" + x for x in total_cats]\n",
    "\n",
    "    mv_vals = np.asarray(cat_series)\n",
    "    cat_ohe = np.zeros((len(cat_series),len(total_cats)))\n",
    "    for i in range(len(mv_vals)):\n",
    "        for j in range(len(total_cats)):\n",
    "            cat_ohe[i,j] = total_cats[j] in mv_vals[i]\n",
    "    ohe = pd.DataFrame(cat_ohe, columns = cat_cols)\n",
    "    bar_ohe.append(ohe)\n",
    "bar_ohe = pd.concat(bar_ohe,axis=1)  \n",
    "\n",
    "ohe = OneHotEncoder(sparse=False, handle_unknown='ignore')\n",
    "oe = OrdinalEncoder(categories = ['No','Yes'])\n",
    "\n",
    "#Replacing columns with \"Yes\"/\"No\" values to 1/0\n",
    "ord_cols = 'Oscar_Best_Picture_nominated,Oscar_Best_Director_won,Oscar_Best_Director_nominated,Oscar_Best_Actor_won,Oscar_Best_Actor_nominated,Oscar_Best_Actress_won,Oscar_Best_Actress_nominated,Oscar_Best_Supporting_Actor_won,Oscar_Best_Supporting_Actor_nominated,Oscar_Best_Supporting_Actress_won,Oscar_Best_Supporting_Actress_nominated,Oscar_Best_AdaScreen_won,Oscar_Best_AdaScreen_nominated,Oscar_Best_OriScreen_won,Oscar_Best_OriScreen_nominated'\n",
    "ord_cols = [x for x in ord_cols.split(',')]\n",
    "for col in ord_cols:\n",
    "    df[col].replace({'Yes':1,'No':0}, inplace=True)\n",
    "\n",
    "ohe_data = pd.DataFrame(ohe.fit_transform(np.array(df['certificate'].replace({np.nan:\"Missing\"})).reshape(-1,1)))\n",
    "\n",
    "ohe_data.columns= ohe.get_feature_names(['certificate'])\n",
    "\n",
    "categorical_data = pd.concat([df[ord_cols],ohe_data,bar_ohe], axis=1)"
   ]
  },
  {
   "cell_type": "code",
   "execution_count": 100,
   "metadata": {},
   "outputs": [
    {
     "data": {
      "text/plain": [
       "0    0.985425\n",
       "1    0.014575\n",
       "Name: Oscar_Best_Picture_won, dtype: float64"
      ]
     },
     "execution_count": 100,
     "metadata": {},
     "output_type": "execute_result"
    }
   ],
   "source": [
    "le = LabelEncoder()\n",
    "le_data = pd.DataFrame(le.fit_transform(df['Oscar_Best_Picture_won']))\n",
    "le_data.columns=['Oscar_Best_Picture_won']\n",
    "y = le_data['Oscar_Best_Picture_won']\n",
    "y.value_counts()/len(y)"
   ]
  },
  {
   "cell_type": "code",
   "execution_count": 101,
   "metadata": {},
   "outputs": [
    {
     "data": {
      "text/plain": [
       "(1235, 1019)"
      ]
     },
     "execution_count": 101,
     "metadata": {},
     "output_type": "execute_result"
    }
   ],
   "source": [
    "drop_cols =['Oscar_Best_Picture_won','certificate','movie_id','synopsis','New_York_Film_Critics_Circle_won_categories','Hollywood_Film_won_categories','Hollywood_Film_nominated_categories','Austin_Film_Critics_Association_won_categories','Austin_Film_Critics_Association_nominated_categories','Denver_Film_Critics_Society_won_categories','Denver_Film_Critics_Society_nominated_categories','Boston_Society_of_Film_Critics_won_categories','Boston_Society_of_Film_Critics_nominated_categories','New_York_Film_Critics_Circle_nominated_categories','Los_Angeles_Film_Critics_Association_won_categories','Los_Angeles_Film_Critics_Association_nominated_categories','Online_Film_Critics_Society_won_categories','Online_Film_Critics_Society_nominated_categories','People_Choice_won_categories','People_Choice_nominated_categories','London_Critics_Circle_Film_won_categories','London_Critics_Circle_Film_nominated_categories','American_Cinema_Editors_won_categories','American_Cinema_Editors_nominated_categories','Costume_Designers_Guild_won_categories','Costume_Designers_Guild_nominated_categories','Online_Film_Television_Association_won_categories','Online_Film_Television_Association_nominated_categories','Producers_Guild_won_categories','Producers_Guild_nominated_categories','Art_Directors_Guild_won_categories','Art_Directors_Guild_nominated_categories','Writers_Guild_won_categories','Writers_Guild_nominated_categories','Critics_Choice_won_categories','Critics_Choice_nominated_categories','Directors_Guild_won_categories','Directors_Guild_nominated_categories','Screen_Actors_Guild_won_categories','Screen_Actors_Guild_nominated_categories','BAFTA_won_categories','BAFTA_nominated_categories','Golden_Globes_won_categories','Golden_Globes_nominated_categories','Oscar_nominated_categories','genre','year','release_date','release_date.year', 'release_date.month', 'release_date.day-of-month', 'release_date.day-of-week']\n",
    "drop_cols = drop_cols + ord_cols\n",
    "df.drop(columns = drop_cols, inplace = True)\n",
    "df_pp = pd.concat([df,categorical_data,y], axis=1)\n",
    "df_pp.shape"
   ]
  },
  {
   "cell_type": "code",
   "execution_count": 103,
   "metadata": {},
   "outputs": [],
   "source": [
    "df_pp.to_csv('/home/jovyan/data1030/data1030-oscars-prediction-project/data/pre_training_data.csv', index=False)"
   ]
  },
  {
   "cell_type": "code",
   "execution_count": 107,
   "metadata": {},
   "outputs": [
    {
     "data": {
      "text/plain": [
       "0    1217\n",
       "1      18\n",
       "Name: Oscar_Best_Picture_won, dtype: int64"
      ]
     },
     "execution_count": 107,
     "metadata": {},
     "output_type": "execute_result"
    }
   ],
   "source": [
    "df_pp['Oscar_Best_Picture_won'].value_counts()"
   ]
  },
  {
   "cell_type": "code",
   "execution_count": null,
   "metadata": {},
   "outputs": [],
   "source": []
  }
 ],
 "metadata": {
  "kernelspec": {
   "display_name": "Python 3",
   "language": "python",
   "name": "python3"
  },
  "language_info": {
   "codemirror_mode": {
    "name": "ipython",
    "version": 3
   },
   "file_extension": ".py",
   "mimetype": "text/x-python",
   "name": "python",
   "nbconvert_exporter": "python",
   "pygments_lexer": "ipython3",
   "version": "3.7.3"
  }
 },
 "nbformat": 4,
 "nbformat_minor": 4
}
