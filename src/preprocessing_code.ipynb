{
 "cells": [
  {
   "cell_type": "markdown",
   "metadata": {},
   "source": [
    "## Preprocessing the Data"
   ]
  },
  {
   "cell_type": "code",
   "execution_count": 162,
   "metadata": {},
   "outputs": [],
   "source": [
    "import pandas as pd\n",
    "import numpy as np\n",
    "from sklearn.preprocessing import OrdinalEncoder, OneHotEncoder, StandardScaler, LabelEncoder\n",
    "df = pd.read_csv('/home/jovyan/data1030/data1030-oscars-prediction-project/data/movies.csv')\n",
    "\n",
    "# parsing and one hot encoding of \"weird\" columns, unique due to it's structure\n",
    "bar_cats =['New_York_Film_Critics_Circle_won_categories','Hollywood_Film_won_categories','Hollywood_Film_nominated_categories','Austin_Film_Critics_Association_won_categories','Austin_Film_Critics_Association_nominated_categories','Denver_Film_Critics_Society_won_categories','Denver_Film_Critics_Society_nominated_categories','Boston_Society_of_Film_Critics_won_categories','Boston_Society_of_Film_Critics_nominated_categories','New_York_Film_Critics_Circle_nominated_categories','Los_Angeles_Film_Critics_Association_won_categories','Los_Angeles_Film_Critics_Association_nominated_categories','Online_Film_Critics_Society_won_categories','Online_Film_Critics_Society_nominated_categories','People_Choice_won_categories','People_Choice_nominated_categories','London_Critics_Circle_Film_won_categories','London_Critics_Circle_Film_nominated_categories','American_Cinema_Editors_won_categories','American_Cinema_Editors_nominated_categories','Costume_Designers_Guild_won_categories','Costume_Designers_Guild_nominated_categories','Online_Film_Television_Association_won_categories','Online_Film_Television_Association_nominated_categories','Producers_Guild_won_categories','Producers_Guild_nominated_categories','Art_Directors_Guild_won_categories','Art_Directors_Guild_nominated_categories','Writers_Guild_won_categories','Writers_Guild_nominated_categories','Critics_Choice_won_categories','Critics_Choice_nominated_categories','Directors_Guild_won_categories','Directors_Guild_nominated_categories','Screen_Actors_Guild_won_categories','Screen_Actors_Guild_nominated_categories','BAFTA_won_categories','BAFTA_nominated_categories','Golden_Globes_won_categories','Golden_Globes_nominated_categories','Oscar_nominated_categories','genre']\n",
    "bar_ohe = []\n",
    "for label in bar_cats:\n",
    "    df[label].fillna(\"nan\", inplace=True)\n",
    "    cat_series = df[label].apply(lambda x: (x.split('|')))\n",
    "    cats = [cat  for ele in list(cat_series) for cat in ele]\n",
    "    cat_set = set(cats)\n",
    "    if 'nan' in cat_set:\n",
    "        cat_set.remove('nan')\n",
    "    total_cats = list(cat_set)\n",
    "    cat_cols = [label + \": \" + x for x in total_cats]\n",
    "\n",
    "    mv_vals = np.asarray(cat_series)\n",
    "    cat_ohe = np.zeros((len(cat_series),len(total_cats)))\n",
    "    for i in range(len(mv_vals)):\n",
    "        for j in range(len(total_cats)):\n",
    "            cat_ohe[i,j] = total_cats[j] in mv_vals[i]\n",
    "    ohe = pd.DataFrame(cat_ohe, columns = cat_cols)\n",
    "    bar_ohe.append(ohe)\n",
    "bar_ohe = pd.concat(bar_ohe,axis=1)  \n",
    "\n",
    "drop_cols =['movie_id','synopsis','New_York_Film_Critics_Circle_won_categories','Hollywood_Film_won_categories','Hollywood_Film_nominated_categories','Austin_Film_Critics_Association_won_categories','Austin_Film_Critics_Association_nominated_categories','Denver_Film_Critics_Society_won_categories','Denver_Film_Critics_Society_nominated_categories','Boston_Society_of_Film_Critics_won_categories','Boston_Society_of_Film_Critics_nominated_categories','New_York_Film_Critics_Circle_nominated_categories','Los_Angeles_Film_Critics_Association_won_categories','Los_Angeles_Film_Critics_Association_nominated_categories','Online_Film_Critics_Society_won_categories','Online_Film_Critics_Society_nominated_categories','People_Choice_won_categories','People_Choice_nominated_categories','London_Critics_Circle_Film_won_categories','London_Critics_Circle_Film_nominated_categories','American_Cinema_Editors_won_categories','American_Cinema_Editors_nominated_categories','Costume_Designers_Guild_won_categories','Costume_Designers_Guild_nominated_categories','Online_Film_Television_Association_won_categories','Online_Film_Television_Association_nominated_categories','Producers_Guild_won_categories','Producers_Guild_nominated_categories','Art_Directors_Guild_won_categories','Art_Directors_Guild_nominated_categories','Writers_Guild_won_categories','Writers_Guild_nominated_categories','Critics_Choice_won_categories','Critics_Choice_nominated_categories','Directors_Guild_won_categories','Directors_Guild_nominated_categories','Screen_Actors_Guild_won_categories','Screen_Actors_Guild_nominated_categories','BAFTA_won_categories','BAFTA_nominated_categories','Golden_Globes_won_categories','Golden_Globes_nominated_categories','Oscar_nominated_categories','genre','year','release_date','release_date.year', 'release_date.month', 'release_date.day-of-month', 'release_date.day-of-week']\n",
    "df = df.drop(columns = drop_cols)\n",
    "\n",
    "ohe = OneHotEncoder(sparse=False, handle_unknown='ignore')\n",
    "oe = OrdinalEncoder(categories = ['No','Yes'])\n",
    "ss = StandardScaler()\n",
    "le = LabelEncoder()\n",
    "\n",
    "#Replacing columns with \"Yes\"/\"No\" values to 1/0\n",
    "ord_cols = 'Oscar_Best_Picture_nominated,Oscar_Best_Director_won,Oscar_Best_Director_nominated,Oscar_Best_Actor_won,Oscar_Best_Actor_nominated,Oscar_Best_Actress_won,Oscar_Best_Actress_nominated,Oscar_Best_Supporting_Actor_won,Oscar_Best_Supporting_Actor_nominated,Oscar_Best_Supporting_Actress_won,Oscar_Best_Supporting_Actress_nominated,Oscar_Best_AdaScreen_won,Oscar_Best_AdaScreen_nominated,Oscar_Best_OriScreen_won,Oscar_Best_OriScreen_nominated'\n",
    "ord_cols = [x for x in ord_cols.split(',')]\n",
    "for col in ord_cols:\n",
    "    df[col].replace({'Yes':1,'No':0}, inplace=True)\n",
    "    \n",
    "num_cols = 'duration,rate,metascore,votes,gross,user_reviews,critic_reviews,popularity,awards_nominations,Oscar_nominated,Golden_Globes_nominated,BAFTA_won,BAFTA_nominated,Screen_Actors_Guild_won,Screen_Actors_Guild_nominated,Critics_Choice_won,Critics_Choice_nominated,Directors_Guild_won,Directors_Guild_nominated,Producers_Guild_won,Producers_Guild_nominated,Art_Directors_Guild_won,Art_Directors_Guild_nominated,Writers_Guild_won,Writers_Guild_nominated,Costume_Designers_Guild_won,Costume_Designers_Guild_nominated,Online_Film_Television_Association_won,Online_Film_Television_Association_nominated,Online_Film_Critics_Society_won,Online_Film_Critics_Society_nominated,People_Choice_won,People_Choice_nominated,London_Critics_Circle_Film_won,London_Critics_Circle_Film_nominated,American_Cinema_Editors_won,American_Cinema_Editors_nominated,Hollywood_Film_won,Hollywood_Film_nominated,Austin_Film_Critics_Association_won,Austin_Film_Critics_Association_nominated,Denver_Film_Critics_Society_won,Denver_Film_Critics_Society_nominated,Boston_Society_of_Film_Critics_won,Boston_Society_of_Film_Critics_nominated,New_York_Film_Critics_Circle_won,New_York_Film_Critics_Circle_nominated,Los_Angeles_Film_Critics_Association_won,Los_Angeles_Film_Critics_Association_nominated'\n",
    "num_cols = [x for x in num_cols.split(',')]\n",
    "\n",
    "ohe_data = pd.DataFrame(ohe.fit_transform(np.array(df['certificate'].replace({np.nan:\"Missing\"})).reshape(-1,1)))\n",
    "ss_data = pd.DataFrame(ss.fit_transform(df[num_cols]))\n",
    "le_data = pd.DataFrame(le.fit_transform(df['Oscar_Best_Picture_won']))\n",
    "\n",
    "ss_data.columns=num_cols\n",
    "le_data.columns=['Oscar_Best_Picture_won']\n",
    "ohe_col_names = [('certificate'+x[2:]) for x in ohe.get_feature_names()]\n",
    "ohe_data.columns=ohe_col_names\n",
    "\n",
    "final_data = pd.concat([df['movie'],ss_data,df[ord_cols],le_data,ohe_data,bar_ohe], axis=1)\n",
    "final_data.to_csv('/home/jovyan/data1030/data1030-oscars-prediction-project/data/preprocessed_movies.csv', index=False)"
   ]
  },
  {
   "cell_type": "markdown",
   "metadata": {},
   "source": [
    "### Reading the Data"
   ]
  },
  {
   "cell_type": "code",
   "execution_count": 164,
   "metadata": {},
   "outputs": [
    {
     "name": "stdout",
     "output_type": "stream",
     "text": [
      "(1235, 1017)\n"
     ]
    },
    {
     "data": {
      "text/plain": [
       "<bound method NDFrame.head of                                                   movie  duration      rate  \\\n",
       "0                                        Kate & Leopold  0.131178 -0.810563   \n",
       "1                                           Chicken Run -1.397591 -0.080761   \n",
       "2                                        Fantastic Four -0.408388 -1.661999   \n",
       "3                                                 Frida  0.355997  0.405774   \n",
       "4     The Lord of the Rings: The Fellowship of the Ring  2.829004  2.108646   \n",
       "...                                                 ...       ...       ...   \n",
       "1230                                        Shoplifters  0.266069  1.257210   \n",
       "1231                                                Bao -4.814838  0.527408   \n",
       "1232                                          Capernaum  0.490888  1.257210   \n",
       "1233                                   Animal Behaviour -4.545055 -0.810563   \n",
       "1234                                     One Small Step -4.814838  0.284140   \n",
       "\n",
       "      metascore     votes     gross  user_reviews  critic_reviews  popularity  \\\n",
       "0     -1.187428 -0.631171 -0.380373     -0.432972       -0.960868    1.065244   \n",
       "1      1.403430 -0.222568  0.190368     -0.358558       -0.544182    1.548866   \n",
       "2     -1.422960  0.453377  0.648472      0.761107        0.084263    0.590398   \n",
       "3     -0.186414 -0.645916 -0.584230     -0.512577       -0.954037    1.206626   \n",
       "4      1.638963  5.772970  2.170131      7.804440        0.207219   -1.039875   \n",
       "...         ...       ...       ...           ...             ...         ...   \n",
       "1230   1.697846 -0.920966 -0.809219     -0.910603       -0.462211   -1.013549   \n",
       "1231        NaN -0.903853       NaN     -0.858687       -1.712269         NaN   \n",
       "1232   0.579066 -0.965636 -0.827768     -0.886375       -1.336568   -0.815615   \n",
       "1233        NaN -0.980176       NaN           NaN       -1.780578         NaN   \n",
       "1234        NaN -0.978973       NaN     -0.978094       -1.801071         NaN   \n",
       "\n",
       "      awards_nominations  ...  genre: Comedy  genre: Short  genre: Family  \\\n",
       "0              -0.417253  ...            1.0           0.0            0.0   \n",
       "1               0.004143  ...            1.0           0.0            0.0   \n",
       "2              -0.658052  ...            0.0           0.0            1.0   \n",
       "3               0.064343  ...            0.0           0.0            0.0   \n",
       "4               3.375317  ...            0.0           0.0            0.0   \n",
       "...                  ...  ...            ...           ...            ...   \n",
       "1230            0.184742  ...            0.0           0.0            0.0   \n",
       "1231           -0.658052  ...            0.0           1.0            1.0   \n",
       "1232           -0.417253  ...            0.0           0.0            0.0   \n",
       "1233           -0.658052  ...            1.0           1.0            0.0   \n",
       "1234           -0.658052  ...            0.0           1.0            0.0   \n",
       "\n",
       "      genre: Fantasy  genre: Animation  genre: War  genre: Crime  \\\n",
       "0                1.0               0.0         0.0           0.0   \n",
       "1                0.0               1.0         0.0           0.0   \n",
       "2                0.0               0.0         0.0           0.0   \n",
       "3                0.0               0.0         0.0           0.0   \n",
       "4                1.0               0.0         0.0           0.0   \n",
       "...              ...               ...         ...           ...   \n",
       "1230             0.0               0.0         0.0           1.0   \n",
       "1231             0.0               1.0         0.0           0.0   \n",
       "1232             0.0               0.0         0.0           0.0   \n",
       "1233             0.0               1.0         0.0           0.0   \n",
       "1234             0.0               1.0         0.0           0.0   \n",
       "\n",
       "      genre: Sport  genre: Horror  genre: Histor  \n",
       "0              0.0            0.0            0.0  \n",
       "1              0.0            0.0            0.0  \n",
       "2              0.0            0.0            0.0  \n",
       "3              0.0            0.0            0.0  \n",
       "4              0.0            0.0            0.0  \n",
       "...            ...            ...            ...  \n",
       "1230           0.0            0.0            0.0  \n",
       "1231           0.0            0.0            0.0  \n",
       "1232           0.0            0.0            0.0  \n",
       "1233           0.0            0.0            0.0  \n",
       "1234           0.0            0.0            0.0  \n",
       "\n",
       "[1235 rows x 1017 columns]>"
      ]
     },
     "execution_count": 164,
     "metadata": {},
     "output_type": "execute_result"
    }
   ],
   "source": [
    "df= pd.read_csv('/home/jovyan/data1030/data1030-oscars-prediction-project/data/preprocessed_movies.csv')\n",
    "print(df.shape)\n",
    "df.head"
   ]
  }
 ],
 "metadata": {
  "kernelspec": {
   "display_name": "Python 3",
   "language": "python",
   "name": "python3"
  },
  "language_info": {
   "codemirror_mode": {
    "name": "ipython",
    "version": 3
   },
   "file_extension": ".py",
   "mimetype": "text/x-python",
   "name": "python",
   "nbconvert_exporter": "python",
   "pygments_lexer": "ipython3",
   "version": "3.7.3"
  }
 },
 "nbformat": 4,
 "nbformat_minor": 4
}
